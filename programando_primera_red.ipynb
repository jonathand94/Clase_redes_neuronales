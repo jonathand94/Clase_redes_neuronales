{
 "cells": [
  {
   "cell_type": "markdown",
   "metadata": {},
   "source": [
    "# <center>PROGRAMANDO LA PRIMERA RED NEURONAL</center>"
   ]
  },
  {
   "cell_type": "markdown",
   "metadata": {},
   "source": [
    "## Importar librerías \n",
    "Primero que nada, debemos de importar las librerías que vamos a estar utilizando. Entre éstas se encuentran Keras (librería que permite hacer redes neuronales), Numpy (librería para manipular matrices y arreglos de manera eficiente), así como PyPlot (para graficar datos). "
   ]
  },
  {
   "cell_type": "code",
   "execution_count": 2,
   "metadata": {},
   "outputs": [
    {
     "name": "stderr",
     "output_type": "stream",
     "text": [
      "Using TensorFlow backend.\n"
     ]
    }
   ],
   "source": [
    "import numpy as np # Librería para manipular matrices eficientemente\n",
    "import matplotlib.pyplot as plt # Librería para graficar\n",
    "from keras.datasets import mnist # Se carga la base de datos con dígitos más popular del mundo: MNIST\n",
    "from keras.models import Sequential # Vamos a estar utilizando un modelo secuencial\n",
    "from keras.layers.core import Dense, Activation, Dropout # Importamos tdas las capas que usaremos de la red\n",
    "from keras.utils import np_utils # Utilidades para manejar datos de tensores con numpy\n",
    "import random\n",
    "import pandas as pd\n",
    "import warnings\n",
    "warnings.filterwarnings('ignore')"
   ]
  },
  {
   "cell_type": "markdown",
   "metadata": {},
   "source": [
    "## Definiendo los parámetros iniciales"
   ]
  },
  {
   "cell_type": "markdown",
   "metadata": {},
   "source": [
    "Se define primero el tamaño de la imagen:"
   ]
  },
  {
   "cell_type": "code",
   "execution_count": 3,
   "metadata": {},
   "outputs": [],
   "source": [
    "img_width, img_height = 28, 28 # Cada imagen en la base de datos es de 28 x 28 píxeles"
   ]
  },
  {
   "cell_type": "markdown",
   "metadata": {},
   "source": [
    "Ahora se establece el número de clases que existe en la base de datos. Para este caso, se sabe que existen 10 números o dígitos: 0 - 9."
   ]
  },
  {
   "cell_type": "code",
   "execution_count": 4,
   "metadata": {},
   "outputs": [],
   "source": [
    "num_classes = 10"
   ]
  },
  {
   "cell_type": "markdown",
   "metadata": {},
   "source": [
    "Para que la fase de entrenamiento sea mucho más rápida, se define cada iteración en diferentes lotes de datos. Es decir, para el caso de esta base de datos se tiene un total de 60,000 imágenes, las cuales se dividirán en lotes ó *\"batches\"* de 128 imágenes cada uno. Por razones teóricas, fundamentadas en el procesamiento digital, siempre se usan lotes que sean potencias de \"2\". Una iteración de entrenamiento ó *epoch* significa que ya se ingresaron las 60,000 imágenes en la red neuronal para ajustar los parámetros de la misma."
   ]
  },
  {
   "cell_type": "code",
   "execution_count": 5,
   "metadata": {},
   "outputs": [],
   "source": [
    "batch_size = 128"
   ]
  },
  {
   "cell_type": "markdown",
   "metadata": {},
   "source": [
    "Ahora es tiempo de definir el número de iteraciones de entrenamiento."
   ]
  },
  {
   "cell_type": "code",
   "execution_count": 6,
   "metadata": {},
   "outputs": [],
   "source": [
    "num_epochs = 10"
   ]
  },
  {
   "cell_type": "markdown",
   "metadata": {},
   "source": [
    "## Preprocesamiento de los datos"
   ]
  },
  {
   "cell_type": "markdown",
   "metadata": {},
   "source": [
    "Un paso fundamental en todo proyecto de Machine Learning es verificar las dimensiones de los datos de entrenamiento. La razón radica en el hecho de que se necesitan definir el número de neuronas en cada capa de la red neuronal; para esto, se necesitan saber las dimensiones de las matrices."
   ]
  },
  {
   "cell_type": "code",
   "execution_count": 7,
   "metadata": {},
   "outputs": [],
   "source": [
    "(X_train, Y_train), (X_test, Y_test) = mnist.load_data() #Se obtienen los datos de entrenamiento y validación"
   ]
  },
  {
   "cell_type": "code",
   "execution_count": 8,
   "metadata": {},
   "outputs": [
    {
     "name": "stdout",
     "output_type": "stream",
     "text": [
      "Dimensiones de los datos de entrenamiento X_train:  (60000, 28, 28)\n",
      "Dimensiones de los datos de validación X_test:  (10000, 28, 28)\n",
      "Dimensiones de las etiquetas de entrenamiento Y_train:  (60000,)\n",
      "Dimensiones de las etiquetas de entrenamiento Y_test:  (10000,)\n"
     ]
    }
   ],
   "source": [
    "print('Dimensiones de los datos de entrenamiento X_train: ', X_train.shape)\n",
    "print('Dimensiones de los datos de validación X_test: ', X_test.shape)\n",
    "print('Dimensiones de las etiquetas de entrenamiento Y_train: ', Y_train.shape)\n",
    "print('Dimensiones de las etiquetas de entrenamiento Y_test: ', Y_test.shape) "
   ]
  },
  {
   "cell_type": "markdown",
   "metadata": {},
   "source": [
    "Para que la red neuronal acepte los vectores, se deben de redimensionar de tal manera que queden con las siguientes dimensiones (numero de datos, numero de píxeles)"
   ]
  },
  {
   "cell_type": "code",
   "execution_count": 9,
   "metadata": {},
   "outputs": [
    {
     "name": "stdout",
     "output_type": "stream",
     "text": [
      "Dimensiones de los datos de entrenamiento re-dimensionados:  (60000, 784)\n",
      "Dimensiones de los datos de validación re-dimensionados:  (10000, 784)\n"
     ]
    }
   ],
   "source": [
    "X_train_reshaped = X_train.reshape(X_train.shape[0], img_width*img_height)\n",
    "X_test_reshaped = X_test.reshape(X_test.shape[0], img_width*img_height)\n",
    "\n",
    "print('Dimensiones de los datos de entrenamiento re-dimensionados: ', X_train_reshaped.shape)\n",
    "print('Dimensiones de los datos de validación re-dimensionados: ', X_test_reshaped.shape)"
   ]
  },
  {
   "cell_type": "markdown",
   "metadata": {},
   "source": [
    "Ahora es necesario estructurar los datos de etiquetas para que la red neuronal los acepte. El formato que se define se llama *one-hot vector* lo que significa que se definirá un vector con un número de dimensiones equivalente al número de clases que tengamos en la base de datos. Para este ejemplo, serían los 10 dígitos. En consecuencia, el vector contendrá un \"1\" en la posición de la clase a la que esté representando y \"0\" en todas las demás dimensiones.\n",
    "\n",
    "Ejemplo: las dimensiones del siguiente vector representan a cada dígito. Este vector representa a la etiqueta de una imágen que fue etiquetada como el número *\"3\"*.       \n",
    "       \n",
    "<center>V =( 0   0   0   1   0   0   0   0   0   0) </center>   "
   ]
  },
  {
   "cell_type": "code",
   "execution_count": 10,
   "metadata": {},
   "outputs": [
    {
     "name": "stdout",
     "output_type": "stream",
     "text": [
      "Representación de la 1° etiqueta de entrenamiento en formato one-hot:  [0. 0. 0. 0. 0. 1. 0. 0. 0. 0.]\n"
     ]
    }
   ],
   "source": [
    "Y_train_one_hot = np_utils.to_categorical(Y_train, num_classes) # Se transforma el vector en codificación \"one-hot\"\n",
    "Y_test_one_hot = np_utils.to_categorical(Y_test, num_classes) # Se transforma el vector en codificación \"one-hot\"\n",
    "print('Representación de la 1° etiqueta de entrenamiento en formato one-hot: ', Y_train_one_hot[0, :]) "
   ]
  },
  {
   "cell_type": "markdown",
   "metadata": {},
   "source": [
    "Ahora se requiere realizar una normalización de los pixeles. Para esto, se dividen todos los pixeles entre 255. Esto permite tener una escala pixélica entre 0 y 1; evitando así, que la red neuronal ponderé de manera equitativa a todos los píxeles."
   ]
  },
  {
   "cell_type": "code",
   "execution_count": 11,
   "metadata": {},
   "outputs": [],
   "source": [
    "X_train_norm = X_train_reshaped.astype('float32') / 255\n",
    "X_test_norm = X_test_reshaped.astype('float32') / 255"
   ]
  },
  {
   "cell_type": "markdown",
   "metadata": {},
   "source": [
    "Mostramos algunos ejemplos de las imágenes normalizadas"
   ]
  },
  {
   "cell_type": "code",
   "execution_count": 12,
   "metadata": {},
   "outputs": [
    {
     "data": {
      "image/png": "[encoded data removed]",
      "text/plain": [
       "<Figure size 432x288 with 9 Axes>"
      ]
     },
     "metadata": {
      "needs_background": "light"
     },
     "output_type": "display_data"
    }
   ],
   "source": [
    "for i in range(9): # Iteramos en 9 imágenes\n",
    "    plt.subplot(3, 3, i+1) # Creamos una matriz de 3 x 3 imágenes\n",
    "    plt.imshow(X_train[i, :, :], cmap = 'gray') # Mostramos las primeras 9 imágenes\n",
    "    plt.axis('off')"
   ]
  },
  {
   "cell_type": "markdown",
   "metadata": {},
   "source": [
    "## Crear el modelo de la Red Neuronal "
   ]
  },
  {
   "cell_type": "markdown",
   "metadata": {},
   "source": [
    "Se definen los parámetros de la arquitectura, tales como el número de neuronas y la probabilidad de desactivación para el regularizador."
   ]
  },
  {
   "cell_type": "code",
   "execution_count": 13,
   "metadata": {},
   "outputs": [],
   "source": [
    "num_neurons_input = 500 # Número de neuronas en la capa de entrada\n",
    "num_neurons_hidden_1 = 250 # Número de neuronas en la 1° capa oculta\n",
    "num_neurons_hidden_2 = 125 # Número de neuronas en la 2° capa oculta\n",
    "prob_drop_out = 0.25 # Probabilidad de desactivar neuronas"
   ]
  },
  {
   "cell_type": "markdown",
   "metadata": {},
   "source": [
    "Se creará una red neuronal con tres capas: la de entradas, la oculta y la de salida. Se usará la función ReLU como función de activación para todas las capas excepto la de salida. Para la capa de salida, se usará una función llamada *softmax*, la cuál es una extensión o generalización de la función sigmoide; usada para estimar múltiples clases."
   ]
  },
  {
   "cell_type": "code",
   "execution_count": 14,
   "metadata": {},
   "outputs": [
    {
     "name": "stdout",
     "output_type": "stream",
     "text": [
      "WARNING:tensorflow:From C:\\Users\\jonat\\Anaconda3\\envs\\tensorflow-gpu\\lib\\site-packages\\tensorflow\\python\\framework\\op_def_library.py:263: colocate_with (from tensorflow.python.framework.ops) is deprecated and will be removed in a future version.\n",
      "Instructions for updating:\n",
      "Colocations handled automatically by placer.\n",
      "WARNING:tensorflow:From C:\\Users\\jonat\\Anaconda3\\envs\\tensorflow-gpu\\lib\\site-packages\\keras\\backend\\tensorflow_backend.py:3445: calling dropout (from tensorflow.python.ops.nn_ops) with keep_prob is deprecated and will be removed in a future version.\n",
      "Instructions for updating:\n",
      "Please use `rate` instead of `keep_prob`. Rate should be set to `rate = 1 - keep_prob`.\n"
     ]
    }
   ],
   "source": [
    "# Se crea el modelo como un modelo secuencial\n",
    "model = Sequential() \n",
    "\n",
    "# Se añade la capa de entradas\n",
    "model.add(Dense(units = num_neurons_input, \n",
    "                input_dim = img_width*img_height, \n",
    "                activation = 'relu', \n",
    "                use_bias=True, \n",
    "                kernel_initializer='glorot_uniform')) \n",
    "\n",
    "# Se añade un regularizador para evitar sobreajuste de curvas\n",
    "model.add(Dropout(prob_drop_out))\n",
    "\n",
    "# Se añade la 1° capa oculta \n",
    "model.add(Dense(units = num_neurons_hidden_1, \n",
    "                activation = 'relu', \n",
    "                use_bias=True, \n",
    "                kernel_initializer='glorot_uniform'))\n",
    "\n",
    "# Se añade un regularizador para evitar sobreajuste de curvas\n",
    "model.add(Dropout(prob_drop_out))\n",
    "\n",
    "# Se añade la 2° capa oculta \n",
    "model.add(Dense(units = num_neurons_hidden_2, \n",
    "                activation = 'relu', \n",
    "                use_bias=True, \n",
    "                kernel_initializer='glorot_uniform'))\n",
    "\n",
    "# Se añade la capa de salidas\n",
    "model.add(Dense(units = num_classes, activation = 'softmax')) "
   ]
  },
  {
   "cell_type": "markdown",
   "metadata": {},
   "source": [
    "Se compila el modelo. Se usa un descenso por gradiente esocástico para optimizar la función de costo de pérdida logarítmica.Y se define precisión como métrica de evaluación"
   ]
  },
  {
   "cell_type": "code",
   "execution_count": 15,
   "metadata": {},
   "outputs": [],
   "source": [
    "model.compile(loss='categorical_crossentropy', optimizer= 'sgd', metrics = ['accuracy'])"
   ]
  },
  {
   "cell_type": "markdown",
   "metadata": {},
   "source": [
    "## Entrenamiento de la Red Neuronal "
   ]
  },
  {
   "cell_type": "markdown",
   "metadata": {},
   "source": [
    "Se define el entrenamiento de la red neuronal con todos los parámetros que hemos definido hasta ahora."
   ]
  },
  {
   "cell_type": "code",
   "execution_count": 16,
   "metadata": {},
   "outputs": [
    {
     "name": "stdout",
     "output_type": "stream",
     "text": [
      "WARNING:tensorflow:From C:\\Users\\jonat\\Anaconda3\\envs\\tensorflow-gpu\\lib\\site-packages\\tensorflow\\python\\ops\\math_ops.py:3066: to_int32 (from tensorflow.python.ops.math_ops) is deprecated and will be removed in a future version.\n",
      "Instructions for updating:\n",
      "Use tf.cast instead.\n",
      "Train on 60000 samples, validate on 10000 samples\n",
      "Epoch 1/10\n",
      "60000/60000 [==============================] - 10s 163us/step - loss: 1.3994 - acc: 0.5988 - val_loss: 0.5478 - val_acc: 0.8593\n",
      "Epoch 2/10\n",
      "60000/60000 [==============================] - 2s 37us/step - loss: 0.5703 - acc: 0.8313 - val_loss: 0.3628 - val_acc: 0.9008\n",
      "Epoch 3/10\n",
      "60000/60000 [==============================] - 2s 37us/step - loss: 0.4402 - acc: 0.8704 - val_loss: 0.3067 - val_acc: 0.9116\n",
      "Epoch 4/10\n",
      "60000/60000 [==============================] - 2s 37us/step - loss: 0.3797 - acc: 0.8872 - val_loss: 0.2741 - val_acc: 0.9217\n",
      "Epoch 5/10\n",
      "60000/60000 [==============================] - 2s 37us/step - loss: 0.3387 - acc: 0.9006 - val_loss: 0.2521 - val_acc: 0.9273\n",
      "Epoch 6/10\n",
      "60000/60000 [==============================] - 2s 36us/step - loss: 0.3136 - acc: 0.9080 - val_loss: 0.2339 - val_acc: 0.9311\n",
      "Epoch 7/10\n",
      "60000/60000 [==============================] - 2s 36us/step - loss: 0.2892 - acc: 0.9157 - val_loss: 0.2160 - val_acc: 0.9363\n",
      "Epoch 8/10\n",
      "60000/60000 [==============================] - 2s 36us/step - loss: 0.2706 - acc: 0.9202 - val_loss: 0.2006 - val_acc: 0.9412\n",
      "Epoch 9/10\n",
      "60000/60000 [==============================] - 2s 37us/step - loss: 0.2537 - acc: 0.9252 - val_loss: 0.1906 - val_acc: 0.9437\n",
      "Epoch 10/10\n",
      "60000/60000 [==============================] - 2s 37us/step - loss: 0.2380 - acc: 0.9295 - val_loss: 0.1794 - val_acc: 0.9472\n"
     ]
    }
   ],
   "source": [
    "history = model.fit(X_train_norm, \n",
    "                    Y_train_one_hot, \n",
    "                    batch_size=batch_size, \n",
    "                    epochs=num_epochs, \n",
    "                    verbose=1, \n",
    "                    validation_data=(X_test_norm, Y_test_one_hot))"
   ]
  },
  {
   "cell_type": "markdown",
   "metadata": {},
   "source": [
    "## Resultados de entrenamiento"
   ]
  },
  {
   "cell_type": "markdown",
   "metadata": {},
   "source": [
    "Se grafica la precisión obtenida en cada iteración del entrenamiento. Se debe siempre analizar para los datos de entrenamiento y los datos de validación."
   ]
  },
  {
   "cell_type": "code",
   "execution_count": 17,
   "metadata": {},
   "outputs": [
    {
     "data": {
      "image/png": "[encoded data removed]",
      "text/plain": [
       "<Figure size 432x288 with 1 Axes>"
      ]
     },
     "metadata": {
      "needs_background": "light"
     },
     "output_type": "display_data"
    }
   ],
   "source": [
    "# summarize history for accuracy\n",
    "plt.figure(1)\n",
    "plt.plot(history.history['acc'])\n",
    "plt.plot(history.history['val_acc'])\n",
    "plt.title('Precisión del modelo')\n",
    "plt.ylabel('Precisión en %')\n",
    "plt.xlabel('Iteración')\n",
    "plt.legend(['datos de entrenamiento', 'datos de validación'], loc='upper left')\n",
    "plt.show()"
   ]
  },
  {
   "cell_type": "markdown",
   "metadata": {},
   "source": [
    "## Clasificando dígitos"
   ]
  },
  {
   "cell_type": "markdown",
   "metadata": {},
   "source": [
    "Se clasifican 9 números aleatorios del conjunto de datos de validación."
   ]
  },
  {
   "cell_type": "code",
   "execution_count": 18,
   "metadata": {},
   "outputs": [
    {
     "data": {
      "image/png": "[encoded data removed]",
      "text/plain": [
       "<Figure size 576x576 with 9 Axes>"
      ]
     },
     "metadata": {},
     "output_type": "display_data"
    }
   ],
   "source": [
    "random_index = random.randint(0, np.round(X_test_norm.shape[0]/ 2))\n",
    "predictions = model.predict_classes(X_test_norm[random_index:random_index+9]) # Se realizan las predicciones\n",
    "plt.figure(figsize=(8, 8)) # Se crea la figura para graficar\n",
    "i = 0\n",
    "\n",
    "for i in range(random_index, random_index+9):\n",
    "    plt.subplot(3, 3, i+1-random_index)\n",
    "    plt.imshow(X_test[i], cmap='gray')\n",
    "    plt.gca().get_xaxis().set_ticks([])\n",
    "    plt.gca().get_yaxis().set_ticks([])\n",
    "    plt.ylabel(\"prediction = %d\" % predictions[i - random_index], fontsize = 15)\n"
   ]
  },
  {
   "cell_type": "markdown",
   "metadata": {},
   "source": [
    "# Clasificando paciente con diabetes"
   ]
  },
  {
   "cell_type": "markdown",
   "metadata": {},
   "source": [
    "## Se cargan los datos:"
   ]
  },
  {
   "cell_type": "markdown",
   "metadata": {},
   "source": [
    "Ahora vamos a ver un problema de clasificación del mundo real. De manera específica, trataremos de resolver un problema para predecir si un paciente dado presenta o no diabetes en función de 8 características clínicas.\n",
    "\n",
    "La base de datos se consiguió de: https://www.kaggle.com/edubrq/diabetes, que presenta 768 pacientes femeninos mayores de 21 años de edad. De estos pacientes, se descartaron todos aquellos que no presentarán datos de alguna de las 8 características propuestas, para evitar inducir ruido al modelo.\n",
    "\n",
    "Con este filtro se obtuvieron un total de 392 pacientes."
   ]
  },
  {
   "cell_type": "code",
   "execution_count": 29,
   "metadata": {},
   "outputs": [
    {
     "data": {
      "text/html": [
       "<div>\n",
       "<style scoped>\n",
       "    .dataframe tbody tr th:only-of-type {\n",
       "        vertical-align: middle;\n",
       "    }\n",
       "\n",
       "    .dataframe tbody tr th {\n",
       "        vertical-align: top;\n",
       "    }\n",
       "\n",
       "    .dataframe thead th {\n",
       "        text-align: right;\n",
       "    }\n",
       "</style>\n",
       "<table border=\"1\" class=\"dataframe\">\n",
       "  <thead>\n",
       "    <tr style=\"text-align: right;\">\n",
       "      <th></th>\n",
       "      <th>Pregnancies</th>\n",
       "      <th>Glucose</th>\n",
       "      <th>BloodPressure</th>\n",
       "      <th>SkinThickness</th>\n",
       "      <th>Insulin</th>\n",
       "      <th>BMI</th>\n",
       "      <th>DiabetesPedigreeFunction</th>\n",
       "      <th>Age</th>\n",
       "      <th>Outcome</th>\n",
       "    </tr>\n",
       "  </thead>\n",
       "  <tbody>\n",
       "    <tr>\n",
       "      <th>0</th>\n",
       "      <td>1</td>\n",
       "      <td>89</td>\n",
       "      <td>66</td>\n",
       "      <td>23</td>\n",
       "      <td>94</td>\n",
       "      <td>28.1</td>\n",
       "      <td>0.167</td>\n",
       "      <td>21</td>\n",
       "      <td>0</td>\n",
       "    </tr>\n",
       "    <tr>\n",
       "      <th>1</th>\n",
       "      <td>0</td>\n",
       "      <td>137</td>\n",
       "      <td>40</td>\n",
       "      <td>35</td>\n",
       "      <td>168</td>\n",
       "      <td>43.1</td>\n",
       "      <td>2.288</td>\n",
       "      <td>33</td>\n",
       "      <td>1</td>\n",
       "    </tr>\n",
       "    <tr>\n",
       "      <th>2</th>\n",
       "      <td>3</td>\n",
       "      <td>78</td>\n",
       "      <td>50</td>\n",
       "      <td>32</td>\n",
       "      <td>88</td>\n",
       "      <td>31.0</td>\n",
       "      <td>0.248</td>\n",
       "      <td>26</td>\n",
       "      <td>1</td>\n",
       "    </tr>\n",
       "    <tr>\n",
       "      <th>3</th>\n",
       "      <td>2</td>\n",
       "      <td>197</td>\n",
       "      <td>70</td>\n",
       "      <td>45</td>\n",
       "      <td>543</td>\n",
       "      <td>30.5</td>\n",
       "      <td>0.158</td>\n",
       "      <td>53</td>\n",
       "      <td>1</td>\n",
       "    </tr>\n",
       "    <tr>\n",
       "      <th>4</th>\n",
       "      <td>1</td>\n",
       "      <td>189</td>\n",
       "      <td>60</td>\n",
       "      <td>23</td>\n",
       "      <td>846</td>\n",
       "      <td>30.1</td>\n",
       "      <td>0.398</td>\n",
       "      <td>59</td>\n",
       "      <td>1</td>\n",
       "    </tr>\n",
       "  </tbody>\n",
       "</table>\n",
       "</div>"
      ],
      "text/plain": [
       "   Pregnancies  Glucose  BloodPressure  SkinThickness  Insulin   BMI  \\\n",
       "0            1       89             66             23       94  28.1   \n",
       "1            0      137             40             35      168  43.1   \n",
       "2            3       78             50             32       88  31.0   \n",
       "3            2      197             70             45      543  30.5   \n",
       "4            1      189             60             23      846  30.1   \n",
       "\n",
       "   DiabetesPedigreeFunction  Age  Outcome  \n",
       "0                     0.167   21        0  \n",
       "1                     2.288   33        1  \n",
       "2                     0.248   26        1  \n",
       "3                     0.158   53        1  \n",
       "4                     0.398   59        1  "
      ]
     },
     "execution_count": 29,
     "metadata": {},
     "output_type": "execute_result"
    }
   ],
   "source": [
    "# Se cargan los datos con la librería Pandas\n",
    "data = pd.read_csv('diabetes.csv')\n",
    "data.head()"
   ]
  },
  {
   "cell_type": "markdown",
   "metadata": {},
   "source": [
    "## Pre-procesamiento de los datos:"
   ]
  },
  {
   "cell_type": "code",
   "execution_count": 30,
   "metadata": {},
   "outputs": [
    {
     "name": "stdout",
     "output_type": "stream",
     "text": [
      "(392, 8) (392, 1)\n"
     ]
    }
   ],
   "source": [
    "# Split columns of Excel Table\n",
    "x_data = data.loc[:, data.columns != 'Outcome'].values\n",
    "y_data = np.array([data['Outcome'].values]).T\n",
    "print(x_data.shape, y_data.shape)"
   ]
  },
  {
   "cell_type": "code",
   "execution_count": 31,
   "metadata": {},
   "outputs": [
    {
     "name": "stdout",
     "output_type": "stream",
     "text": [
      "(274, 9) (118, 9) (274, 1) (118, 1)\n"
     ]
    }
   ],
   "source": [
    "# Normalize features (each column)\n",
    "x_data_norm = (x_data - x_data.min(0)) / x_data.ptp(0)\n",
    "\n",
    "# Randomize\n",
    "idx = [i for i in range(len(y_data))]\n",
    "random.shuffle(idx)\n",
    "x_data_norm = x_data_norm[idx] \n",
    "y_data = y_data[idx]\n",
    "\n",
    "# We split training data and add bias\n",
    "x_b = np.insert(x_data_norm, 0, 1, axis=1)\n",
    "\n",
    "# Split 70% / 30%\n",
    "x_train = x_b[0:round(0.7*x_b.shape[0])]\n",
    "x_test = x_b[round(0.7*x_b.shape[0]):]\n",
    "y_train = y_data[0:round(0.7*y_data.shape[0])]\n",
    "y_test = y_data[round(0.7*y_data.shape[0]):]\n",
    "\n",
    "print(x_train.shape, x_test.shape, y_train.shape, y_test.shape)"
   ]
  },
  {
   "cell_type": "markdown",
   "metadata": {},
   "source": [
    "## Usando el mismo modelo para entrenarlo:"
   ]
  },
  {
   "cell_type": "code",
   "execution_count": 32,
   "metadata": {},
   "outputs": [],
   "source": [
    "# Especificamos las iteraciones y el alpha\n",
    "batch_size = 274\n",
    "num_epochs = 60"
   ]
  },
  {
   "cell_type": "code",
   "execution_count": 33,
   "metadata": {},
   "outputs": [],
   "source": [
    "# Se crea el modelo como un modelo secuencial\n",
    "model = Sequential() \n",
    "\n",
    "model.add(Dense(units = num_neurons_input, \n",
    "                input_dim = x_train.shape[1], \n",
    "                activation = 'relu', \n",
    "                use_bias=True, \n",
    "                kernel_initializer='glorot_uniform')) \n",
    "\n",
    "model.add(Dropout(prob_drop_out))\n",
    "\n",
    "model.add(Dense(units = num_neurons_hidden_1, \n",
    "                activation = 'relu', \n",
    "                use_bias=True, \n",
    "                kernel_initializer='glorot_uniform'))\n",
    "\n",
    "model.add(Dropout(prob_drop_out))\n",
    "\n",
    "model.add(Dense(units = num_neurons_hidden_2, \n",
    "                activation = 'relu', \n",
    "                use_bias=True, \n",
    "                kernel_initializer='glorot_uniform'))\n",
    "\n",
    "model.add(Dense(units = 1, activation = 'sigmoid')) "
   ]
  },
  {
   "cell_type": "code",
   "execution_count": 34,
   "metadata": {},
   "outputs": [
    {
     "name": "stdout",
     "output_type": "stream",
     "text": [
      "Train on 274 samples, validate on 118 samples\n",
      "Epoch 1/60\n",
      "274/274 [==============================] - 1s 2ms/step - loss: 0.6838 - acc: 0.6569 - val_loss: 0.6545 - val_acc: 0.7034\n",
      "Epoch 2/60\n",
      "274/274 [==============================] - 0s 25us/step - loss: 0.6664 - acc: 0.6533 - val_loss: 0.6336 - val_acc: 0.7034\n",
      "Epoch 3/60\n",
      "274/274 [==============================] - 0s 29us/step - loss: 0.6564 - acc: 0.6533 - val_loss: 0.6185 - val_acc: 0.7034\n",
      "Epoch 4/60\n",
      "274/274 [==============================] - 0s 25us/step - loss: 0.6451 - acc: 0.6533 - val_loss: 0.6069 - val_acc: 0.7034\n",
      "Epoch 5/60\n",
      "274/274 [==============================] - 0s 33us/step - loss: 0.6392 - acc: 0.6533 - val_loss: 0.5963 - val_acc: 0.7034\n",
      "Epoch 6/60\n",
      "274/274 [==============================] - 0s 29us/step - loss: 0.6342 - acc: 0.6533 - val_loss: 0.5855 - val_acc: 0.7034\n",
      "Epoch 7/60\n",
      "274/274 [==============================] - 0s 26us/step - loss: 0.6318 - acc: 0.6533 - val_loss: 0.5746 - val_acc: 0.7034\n",
      "Epoch 8/60\n",
      "274/274 [==============================] - 0s 25us/step - loss: 0.6159 - acc: 0.6533 - val_loss: 0.5643 - val_acc: 0.7034\n",
      "Epoch 9/60\n",
      "274/274 [==============================] - 0s 29us/step - loss: 0.6086 - acc: 0.6533 - val_loss: 0.5549 - val_acc: 0.6949\n",
      "Epoch 10/60\n",
      "274/274 [==============================] - 0s 29us/step - loss: 0.5970 - acc: 0.6569 - val_loss: 0.5452 - val_acc: 0.7373\n",
      "Epoch 11/60\n",
      "274/274 [==============================] - 0s 36us/step - loss: 0.5846 - acc: 0.6752 - val_loss: 0.5333 - val_acc: 0.7797\n",
      "Epoch 12/60\n",
      "274/274 [==============================] - 0s 33us/step - loss: 0.5752 - acc: 0.7007 - val_loss: 0.5176 - val_acc: 0.8051\n",
      "Epoch 13/60\n",
      "274/274 [==============================] - 0s 29us/step - loss: 0.5622 - acc: 0.7299 - val_loss: 0.4982 - val_acc: 0.8136\n",
      "Epoch 14/60\n",
      "274/274 [==============================] - 0s 33us/step - loss: 0.5476 - acc: 0.7372 - val_loss: 0.4785 - val_acc: 0.8136\n",
      "Epoch 15/60\n",
      "274/274 [==============================] - 0s 33us/step - loss: 0.5328 - acc: 0.7445 - val_loss: 0.4618 - val_acc: 0.8136\n",
      "Epoch 16/60\n",
      "274/274 [==============================] - 0s 43us/step - loss: 0.5183 - acc: 0.7591 - val_loss: 0.4483 - val_acc: 0.7966\n",
      "Epoch 17/60\n",
      "274/274 [==============================] - 0s 33us/step - loss: 0.5013 - acc: 0.7701 - val_loss: 0.4378 - val_acc: 0.7966\n",
      "Epoch 18/60\n",
      "274/274 [==============================] - 0s 33us/step - loss: 0.4987 - acc: 0.7555 - val_loss: 0.4311 - val_acc: 0.7966\n",
      "Epoch 19/60\n",
      "274/274 [==============================] - 0s 36us/step - loss: 0.4871 - acc: 0.7518 - val_loss: 0.4275 - val_acc: 0.8051\n",
      "Epoch 20/60\n",
      "274/274 [==============================] - 0s 33us/step - loss: 0.4908 - acc: 0.7591 - val_loss: 0.4261 - val_acc: 0.8051\n",
      "Epoch 21/60\n",
      "274/274 [==============================] - 0s 29us/step - loss: 0.4774 - acc: 0.7664 - val_loss: 0.4184 - val_acc: 0.8051\n",
      "Epoch 22/60\n",
      "274/274 [==============================] - 0s 40us/step - loss: 0.4750 - acc: 0.7555 - val_loss: 0.4105 - val_acc: 0.7966\n",
      "Epoch 23/60\n",
      "274/274 [==============================] - 0s 29us/step - loss: 0.4618 - acc: 0.7774 - val_loss: 0.4052 - val_acc: 0.7881\n",
      "Epoch 24/60\n",
      "274/274 [==============================] - 0s 55us/step - loss: 0.4573 - acc: 0.7664 - val_loss: 0.4031 - val_acc: 0.7797\n",
      "Epoch 25/60\n",
      "274/274 [==============================] - 0s 33us/step - loss: 0.4755 - acc: 0.7628 - val_loss: 0.4063 - val_acc: 0.8051\n",
      "Epoch 26/60\n",
      "274/274 [==============================] - 0s 33us/step - loss: 0.4519 - acc: 0.7810 - val_loss: 0.4110 - val_acc: 0.8136\n",
      "Epoch 27/60\n",
      "274/274 [==============================] - 0s 25us/step - loss: 0.4454 - acc: 0.7920 - val_loss: 0.4111 - val_acc: 0.8136\n",
      "Epoch 28/60\n",
      "274/274 [==============================] - 0s 25us/step - loss: 0.4583 - acc: 0.7737 - val_loss: 0.4076 - val_acc: 0.7966\n",
      "Epoch 29/60\n",
      "274/274 [==============================] - 0s 33us/step - loss: 0.4477 - acc: 0.7628 - val_loss: 0.4051 - val_acc: 0.7966\n",
      "Epoch 30/60\n",
      "274/274 [==============================] - 0s 33us/step - loss: 0.4645 - acc: 0.7628 - val_loss: 0.4039 - val_acc: 0.7966\n",
      "Epoch 31/60\n",
      "274/274 [==============================] - 0s 36us/step - loss: 0.4635 - acc: 0.7628 - val_loss: 0.4033 - val_acc: 0.7881\n",
      "Epoch 32/60\n",
      "274/274 [==============================] - 0s 25us/step - loss: 0.4503 - acc: 0.7956 - val_loss: 0.4078 - val_acc: 0.8136\n",
      "Epoch 33/60\n",
      "274/274 [==============================] - 0s 29us/step - loss: 0.4582 - acc: 0.7810 - val_loss: 0.4122 - val_acc: 0.8051\n",
      "Epoch 34/60\n",
      "274/274 [==============================] - 0s 22us/step - loss: 0.4382 - acc: 0.7883 - val_loss: 0.4135 - val_acc: 0.8051\n",
      "Epoch 35/60\n",
      "274/274 [==============================] - 0s 25us/step - loss: 0.4507 - acc: 0.7847 - val_loss: 0.4098 - val_acc: 0.8220\n",
      "Epoch 36/60\n",
      "274/274 [==============================] - 0s 36us/step - loss: 0.4386 - acc: 0.7956 - val_loss: 0.4054 - val_acc: 0.7966\n",
      "Epoch 37/60\n",
      "274/274 [==============================] - 0s 36us/step - loss: 0.4558 - acc: 0.7810 - val_loss: 0.4052 - val_acc: 0.7881\n",
      "Epoch 38/60\n",
      "274/274 [==============================] - 0s 33us/step - loss: 0.4374 - acc: 0.7847 - val_loss: 0.4083 - val_acc: 0.7966\n",
      "Epoch 39/60\n",
      "274/274 [==============================] - 0s 36us/step - loss: 0.4283 - acc: 0.8029 - val_loss: 0.4086 - val_acc: 0.7966\n",
      "Epoch 40/60\n",
      "274/274 [==============================] - 0s 33us/step - loss: 0.4468 - acc: 0.7664 - val_loss: 0.4097 - val_acc: 0.8051\n",
      "Epoch 41/60\n",
      "274/274 [==============================] - 0s 22us/step - loss: 0.4467 - acc: 0.7993 - val_loss: 0.4074 - val_acc: 0.7966\n",
      "Epoch 42/60\n",
      "274/274 [==============================] - 0s 18us/step - loss: 0.4215 - acc: 0.7701 - val_loss: 0.4046 - val_acc: 0.7881\n",
      "Epoch 43/60\n",
      "274/274 [==============================] - 0s 36us/step - loss: 0.4433 - acc: 0.7956 - val_loss: 0.4049 - val_acc: 0.7881\n",
      "Epoch 44/60\n",
      "274/274 [==============================] - 0s 36us/step - loss: 0.4381 - acc: 0.8102 - val_loss: 0.4068 - val_acc: 0.8051\n",
      "Epoch 45/60\n",
      "274/274 [==============================] - 0s 29us/step - loss: 0.4414 - acc: 0.7847 - val_loss: 0.4074 - val_acc: 0.8051\n",
      "Epoch 46/60\n",
      "274/274 [==============================] - 0s 33us/step - loss: 0.4469 - acc: 0.8029 - val_loss: 0.4068 - val_acc: 0.8051\n",
      "Epoch 47/60\n",
      "274/274 [==============================] - 0s 22us/step - loss: 0.4422 - acc: 0.7883 - val_loss: 0.4043 - val_acc: 0.8051\n",
      "Epoch 48/60\n",
      "274/274 [==============================] - 0s 33us/step - loss: 0.4242 - acc: 0.8139 - val_loss: 0.4027 - val_acc: 0.8051\n",
      "Epoch 49/60\n",
      "274/274 [==============================] - 0s 18us/step - loss: 0.4452 - acc: 0.7591 - val_loss: 0.4022 - val_acc: 0.8051\n",
      "Epoch 50/60\n",
      "274/274 [==============================] - 0s 25us/step - loss: 0.4263 - acc: 0.8029 - val_loss: 0.4029 - val_acc: 0.8051\n",
      "Epoch 51/60\n",
      "274/274 [==============================] - 0s 18us/step - loss: 0.4342 - acc: 0.7883 - val_loss: 0.4048 - val_acc: 0.8051\n",
      "Epoch 52/60\n",
      "274/274 [==============================] - 0s 22us/step - loss: 0.4203 - acc: 0.8102 - val_loss: 0.4054 - val_acc: 0.8051\n",
      "Epoch 53/60\n",
      "274/274 [==============================] - 0s 22us/step - loss: 0.4397 - acc: 0.7993 - val_loss: 0.4031 - val_acc: 0.7966\n",
      "Epoch 54/60\n",
      "274/274 [==============================] - 0s 25us/step - loss: 0.4302 - acc: 0.8029 - val_loss: 0.4025 - val_acc: 0.7966\n",
      "Epoch 55/60\n",
      "274/274 [==============================] - 0s 22us/step - loss: 0.4193 - acc: 0.8066 - val_loss: 0.4039 - val_acc: 0.8051\n",
      "Epoch 56/60\n",
      "274/274 [==============================] - 0s 22us/step - loss: 0.4232 - acc: 0.8029 - val_loss: 0.4031 - val_acc: 0.8051\n",
      "Epoch 57/60\n",
      "274/274 [==============================] - 0s 22us/step - loss: 0.4201 - acc: 0.8066 - val_loss: 0.4000 - val_acc: 0.8051\n",
      "Epoch 58/60\n",
      "274/274 [==============================] - 0s 29us/step - loss: 0.4299 - acc: 0.7847 - val_loss: 0.4007 - val_acc: 0.7966\n",
      "Epoch 59/60\n",
      "274/274 [==============================] - 0s 29us/step - loss: 0.4451 - acc: 0.7920 - val_loss: 0.4017 - val_acc: 0.7966\n",
      "Epoch 60/60\n",
      "274/274 [==============================] - 0s 29us/step - loss: 0.4393 - acc: 0.8029 - val_loss: 0.4020 - val_acc: 0.7966\n"
     ]
    }
   ],
   "source": [
    "# Se entrena el modelo\n",
    "model.compile(loss='binary_crossentropy', optimizer= 'adam', metrics = ['accuracy'])\n",
    "history = model.fit(x_train, \n",
    "                    y_train, \n",
    "                    batch_size=batch_size, \n",
    "                    epochs=num_epochs, \n",
    "                    verbose=1, \n",
    "                    validation_data=(x_test, y_test))"
   ]
  },
  {
   "cell_type": "markdown",
   "metadata": {},
   "source": [
    "## Resultados de entrenamiento"
   ]
  },
  {
   "cell_type": "code",
   "execution_count": 35,
   "metadata": {},
   "outputs": [
    {
     "data": {
      "image/png": "[encoded data removed]",
      "text/plain": [
       "<Figure size 432x288 with 1 Axes>"
      ]
     },
     "metadata": {
      "needs_background": "light"
     },
     "output_type": "display_data"
    }
   ],
   "source": [
    "# summarize history for log loss\n",
    "plt.figure(1)\n",
    "plt.plot(history.history['loss'])\n",
    "plt.plot(history.history['val_loss'])\n",
    "plt.title('Precisión del modelo')\n",
    "plt.ylabel('Precisión en %')\n",
    "plt.xlabel('Iteración')\n",
    "plt.legend(['datos de entrenamiento', 'datos de validación'], loc='upper left')\n",
    "plt.show()"
   ]
  },
  {
   "cell_type": "code",
   "execution_count": 36,
   "metadata": {},
   "outputs": [
    {
     "data": {
      "image/png": "[encoded data removed]",
      "text/plain": [
       "<Figure size 432x288 with 1 Axes>"
      ]
     },
     "metadata": {
      "needs_background": "light"
     },
     "output_type": "display_data"
    }
   ],
   "source": [
    "# summarize history for accuracy\n",
    "plt.figure(1)\n",
    "plt.plot(history.history['acc'])\n",
    "plt.plot(history.history['val_acc'])\n",
    "plt.title('Precisión del modelo')\n",
    "plt.ylabel('Precisión en %')\n",
    "plt.xlabel('Iteración')\n",
    "plt.legend(['datos de entrenamiento', 'datos de validación'], loc='upper left')\n",
    "plt.show()"
   ]
  },
  {
   "cell_type": "markdown",
   "metadata": {},
   "source": [
    "## ¿Porqué el modelo no tuvo tan buen rendimiento?"
   ]
  },
  {
   "cell_type": "code",
   "execution_count": 37,
   "metadata": {},
   "outputs": [],
   "source": [
    "# Extraemos dos características\n",
    "x1 = np.array([data['Glucose'].values.tolist()]).T\n",
    "x2 = np.array([data['BMI'].values.tolist()]).T\n",
    "y = np.array([data['Outcome'].values.tolist()]).T\n",
    "\n",
    "# Separamos pacientes con y sin diabetes\n",
    "pos_idx = (y == 1)\n",
    "neg_idx = (y == 0)\n",
    "y_pos = np.array([y[pos_idx]]).T\n",
    "y_neg = np.array([y[neg_idx]]).T\n",
    "x1_pos = np.array([x1[pos_idx]]).T\n",
    "x1_neg = np.array([x1[neg_idx]]).T\n",
    "x2_pos = np.array([x2[pos_idx]]).T\n",
    "x2_neg = np.array([x2[neg_idx]]).T"
   ]
  },
  {
   "cell_type": "code",
   "execution_count": 38,
   "metadata": {},
   "outputs": [
    {
     "data": {
      "text/plain": [
       "<matplotlib.legend.Legend at 0x156fc169f98>"
      ]
     },
     "execution_count": 38,
     "metadata": {},
     "output_type": "execute_result"
    },
    {
     "data": {
      "image/png": "[encoded data removed]",
      "text/plain": [
       "<Figure size 432x288 with 1 Axes>"
      ]
     },
     "metadata": {
      "needs_background": "light"
     },
     "output_type": "display_data"
    }
   ],
   "source": [
    "# Graficamos\n",
    "plt.figure()\n",
    "plt.title('Classifying diabetes')\n",
    "plt.xlabel('Glucose')\n",
    "plt.ylabel('BMI')\n",
    "plt.scatter(x1_pos[:,0], x2_pos[:,0], color='r', label='Diabetes')\n",
    "plt.scatter(x1_neg[:,0], x2_neg[:,0], color='b', label='No Diabetes')\n",
    "plt.legend()"
   ]
  },
  {
   "cell_type": "markdown",
   "metadata": {},
   "source": [
    "Se observa que las clases no son linealmente separables, por lo que el problema de clasificación es mucho más complejo."
   ]
  }
 ],
 "metadata": {
  "kernelspec": {
   "display_name": "Python 3",
   "language": "python",
   "name": "python3"
  },
  "language_info": {
   "codemirror_mode": {
    "name": "ipython",
    "version": 3
   },
   "file_extension": ".py",
   "mimetype": "text/x-python",
   "name": "python",
   "nbconvert_exporter": "python",
   "pygments_lexer": "ipython3",
   "version": "3.7.3"
  }
 },
 "nbformat": 4,
 "nbformat_minor": 2
}
